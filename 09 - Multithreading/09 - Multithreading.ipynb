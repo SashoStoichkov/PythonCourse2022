{
 "cells": [
  {
   "cell_type": "markdown",
   "metadata": {
    "collapsed": false
   },
   "source": [
    "# Многонишково програмиране с Python"
   ]
  },
  {
   "cell_type": "markdown",
   "metadata": {
    "collapsed": false
   },
   "source": [
    "План на лекцията:\n",
    "- Скалиране от 1 към много\n",
    "- Какво е нишка ?\n",
    "- [ ] Работа с нишки (Threads)\n",
    "- [ ] Python GIL\n",
    "- [ ] Threads, round 2\n",
    "- [ ] \"Многопроцесност\"\n",
    "- [ ] Бъдещето\n",
    "- [ ] asyncio\n",
    "- [ ] Примери\n",
    "- [ ] Задачи"
   ]
  },
  {
   "cell_type": "markdown",
   "metadata": {},
   "source": [
    "## Скалиране от 1 към много"
   ]
  },
  {
   "cell_type": "markdown",
   "metadata": {},
   "source": [
    "Нека се върнем към едни по-прости времена - когато процесорът (да го наречем \"v1\") може да изпълнява една-единствена задача. Нека освен този прост процесор, да имаме и набор от задачи - `[t1, t2, t3]`.\n",
    "Процесорът взима първата задача, изпълнява я, взема втората задача, изпълнява нея, и така докато не мине през всички задачи.\n",
    "\n",
    "(Картинка, на която t1 -> t2 ---> t3 -->)"
   ]
  },
  {
   "cell_type": "markdown",
   "metadata": {},
   "source": [
    "Нека си представим, че задачата `t2` отнема повече време, защото трябва да изчака за някакъв ресурс (например файлова операция). В това време, нашия процесор v1 чака, и не прави никакви изчисления. Това със сигурност не е оптимално."
   ]
  },
  {
   "cell_type": "markdown",
   "metadata": {},
   "source": [
    "### Какво е конкурентност ?"
   ]
  },
  {
   "cell_type": "markdown",
   "metadata": {},
   "source": [
    "Нека да вземем един нов, по-добър процесор (\"v2\"), който може да разпознае кога даден процес чака за ресурс, и в такава ситуация да даде приоритет на друг процес. \n",
    "В тази ситуация, когато `t2` чака за ресурс, процесорът може да пусне `t3` по-рано. Когато ресурсът на `t2` стане наличен, процесорът ще спре `t3`, и ще даде време обратно на `t2`.   "
   ]
  },
  {
   "cell_type": "markdown",
   "metadata": {},
   "source": [
    "(Картинка, на която t1 -> t2 -> t3 --> t2 ->)"
   ]
  },
  {
   "cell_type": "markdown",
   "metadata": {},
   "source": [
    "Това изпълнение, ни позволява да изпълним задачите си по-бързо - вместо да чакаме `t2` да приключи, това време в чакане може да се използва за изпълнението на `t3`. \n",
    "\n",
    "Този модел на изпълнение, в който изпълнението на следващата задача не е нужно да изчаква приключването на текущата, се нарича \"конкурентно изпълнение\".\n",
    "Важно е да се отбележи, че конкурентното изпълнение не е едновременно (паралелно) изпълнение на задачи - продължаваме да изпълняваме по една задача в даден момент, просто редът им не е детерминиран. Ние не знаем в какъв ред ще се изпълнят задачите и коя от тях ще бъде изпълнена първа."
   ]
  },
  {
   "cell_type": "markdown",
   "metadata": {},
   "source": [
    "### Какво е паралелизъм ?"
   ]
  },
  {
   "cell_type": "markdown",
   "metadata": {},
   "source": [
    "Колкото и оптимално да е раздаването на процесорно време от нашия v2 процесор, той все още не може да прави паралелни изчисления. Затова нека въведем нашия \"v3\" процесор - той ще е два v2 процесора \"залепени\" един за друг. Това би означавало, че нашия v3 процесор може да изпълнява две задачи едновременно (паралелно).  "
   ]
  },
  {
   "cell_type": "markdown",
   "metadata": {},
   "source": [
    "### Модерните процесори"
   ]
  },
  {
   "cell_type": "markdown",
   "metadata": {},
   "source": [
    "Модерните процесори са изградени от няколко ядра (8, 10, 16), които могат да изпълняват различни задачи паралелно. В идеалния свят, ако нашата задача отнема `t` време на 1 ядро, то на `n` ядра, би трябвало да отнеме `t/n` време."
   ]
  },
  {
   "cell_type": "markdown",
   "metadata": {},
   "source": [
    "## Какво е нишка ?\n",
    "- Какво е нишка принципно ?\n",
    "- Зелени нишки\n"
   ]
  },
  {
   "cell_type": "markdown",
   "metadata": {},
   "source": [
    "Нишката може да бъде разглеждана като най-малката смислена поредица от инструкции, които да бъдат изпълнени. Един процес съдържа една или повече нишки. \n",
    "Нишките могат да комуникират една с друга, с помощта на споделена памет или с т.нар. канали. \n",
    "\n",
    "Съществуват два вида нишки - нишки на ядрото (kernel threads) и потребителски нишки (user threads). Нишките на ядрото са менажирани от kernel-а - той се грижи за предаването на изпълнението от една нишка на друга. Kernel нишките споделят една и съща памет и файлови ресурси. Всяка нишка обаче има собствен стек, копие на регистрите и специална памет за конкретната нишка.\n",
    "\n",
    "User нишките (наричани още \"зелени\" нишки, green threads) се управляват на ниво потребителски процес. Ядрото на ОС не знае за тяхното съществуване. Факта, че те се оправляват от потребителски процеси, прави предаването на контрола между всяка от тях евтина операция (от гледна точка на kernel-а, няма смяна на изпълняващата се нишка, съответно няма context switch). Главния недостатък на user нишките е при изпълнението на блокиращи операции (най-често свързани с IO операции) - при такава операция, вместо да се блокира само една нишка, се блокира целия процес. "
   ]
  },
  {
   "cell_type": "markdown",
   "metadata": {},
   "source": [
    "Съществуват три модела за работа с нишки, определяни от съотношението на брой kernel threads към user threads\n",
    "\n",
    "- 1:1 - в този модел, на всяка нишка създадена от потребителя съотвества на kernel нишка\n",
    "- N:1 - в този модел, всяка нишка създадена от потребителя се съпоставя към една kernel нишка\n",
    "- M:N - в този модеел, M на брой потребителски нишки се съпоставят към N на брой kernel нишки"
   ]
  },
  {
   "cell_type": "markdown",
   "metadata": {},
   "source": [
    "## Работа с нишки (Threads)\n",
    "https://docs.python.org/3.10/library/threading.html?highlight=threading#module-threading\n",
    "- Разглеждане на performance-а"
   ]
  },
  {
   "cell_type": "markdown",
   "metadata": {},
   "source": [
    "За работа с нишки в Python използваме библиотеката `threading`. Тя ни предоставя различни инструменти за стартиране, синхронизиране и обща работа с нишки."
   ]
  },
  {
   "cell_type": "markdown",
   "metadata": {},
   "source": [
    "Основният клас с който ще работим, е класът `Thread`. Той има за цел да се погрижи за изпълнението на дадено парче питонски код, в отделна нишка. Можем да зададем кода, който искаме да изпълним по два начин - като `Callable` обект, подаден на конструктора на `Thread`, или като създадем собствен клас, който да наследи `Thread` и да презапишем `run` метода. "
   ]
  },
  {
   "cell_type": "markdown",
   "metadata": {},
   "source": [
    "За да стартираме нишка, трябва да извикаме `start` метода - той има за цел да подготви нова нишка, в която да бъде изпълнено съдържанието на `run` метода."
   ]
  },
  {
   "cell_type": "code",
   "execution_count": 10,
   "metadata": {},
   "outputs": [
    {
     "name": "stdout",
     "output_type": "stream",
     "text": [
      "Thread with a Callable in the init\n",
      "Custom Thread class\n"
     ]
    }
   ],
   "source": [
    "from threading import Thread\n",
    "\n",
    "def hi():\n",
    "    print(\"Thread with a Callable in the init\")\n",
    "\n",
    "t1 = Thread(target=hi)\n",
    "t1.start()\n",
    "\n",
    "class MyThread(Thread):\n",
    "    def run(self):\n",
    "        print(\"Custom Thread class\")\n",
    "\n",
    "t2 = MyThread()\n",
    "t2.start()"
   ]
  },
  {
   "cell_type": "markdown",
   "metadata": {},
   "source": [
    "Тук е важно да се отбележи, че когато наследяваме от `Thread`, не трябва да предефинираме никакви други методи, освен `__init__` и `run`. Можем да добавяме нови методи, но не трябва да променяме поведението на останалите методи в `Thread`. "
   ]
  },
  {
   "cell_type": "code",
   "execution_count": 12,
   "metadata": {},
   "outputs": [
    {
     "name": "stdout",
     "output_type": "stream",
     "text": [
      "The early bird gets the worm\n"
     ]
    },
    {
     "name": "stdout",
     "output_type": "stream",
     "text": [
      "Overslept a bit... hi\n"
     ]
    }
   ],
   "source": [
    "from threading import Thread\n",
    "from time import sleep\n",
    "\n",
    "def delayed_hi():\n",
    "    sleep(2)\n",
    "    print(\"Overslept a bit... hi\")\n",
    "\n",
    "t1 = Thread(target=delayed_hi)\n",
    "t1.start()\n",
    "print(\"The early bird gets the worm\")"
   ]
  },
  {
   "cell_type": "markdown",
   "metadata": {},
   "source": [
    "В горния пример, изпълнението на програмата продължава напред със следващите редове код. Програмата ни приключва тогава, когато всички нишки за приключили работа.\n",
    "\n",
    "Ако искаме да изчакаме дадена нишка да приключи преди да продължим с изпълнението на кода, можем да използваме метода `join`."
   ]
  },
  {
   "cell_type": "code",
   "execution_count": 32,
   "metadata": {},
   "outputs": [
    {
     "name": "stdout",
     "output_type": "stream",
     "text": [
      "The thread has started\n",
      "I want to wait for it to end\n",
      "I'm a thread\n",
      "The thread has finished\n"
     ]
    }
   ],
   "source": [
    "from threading import Thread\n",
    "from time import sleep\n",
    "\n",
    "def delayed_hi():\n",
    "    sleep(1)\n",
    "    print(\"I'm a thread\")\n",
    "\n",
    "t1 = Thread(target=delayed_hi)\n",
    "t1.start()\n",
    "\n",
    "print(\"The thread has started\")\n",
    "print(\"I want to wait for it to end\")\n",
    "t1.join()  # Comment this, to see the change\n",
    "print(\"The thread has finished\")"
   ]
  },
  {
   "cell_type": "markdown",
   "metadata": {},
   "source": [
    "Методът `join` спира изпълненето на кода, докато нишката не приключи работата си или не срещне `Exception`. Възможно е да подадем `timeout` параметър на `join` - той индикира колко време да изчакаме нишката да приключи. Важно е да отбележим, че след изтичането на `timeout` параметъра, нишката може да продължи да работи. С методът `is_alive` можем да проверим дали дадена нишка все още работи."
   ]
  },
  {
   "cell_type": "code",
   "execution_count": 34,
   "metadata": {},
   "outputs": [
    {
     "name": "stdout",
     "output_type": "stream",
     "text": [
      ">Going to sleep\n",
      "Is the thread working ? True\n",
      "Let's give it some time\n",
      "Time to get up !\n",
      "Is the thread working ? True\n",
      ">Did a really good nap\n",
      "What about now ? False\n"
     ]
    }
   ],
   "source": [
    "from threading import Thread\n",
    "from time import sleep \n",
    "\n",
    "def sleepy_thread():\n",
    "    print(\">Going to sleep\")\n",
    "    sleep(20)\n",
    "    print(\">Did a really good nap\")\n",
    "\n",
    "t1 = Thread(target=sleepy_thread)\n",
    "t1.start()\n",
    "\n",
    "print(f\"Is the thread working ? {t1.is_alive()}\")\n",
    "\n",
    "print(\"Let's give it some time\")\n",
    "sleep(2)\n",
    "\n",
    "print(\"Time to get up !\")\n",
    "t1.join(timeout=3)\n",
    "\n",
    "print(f\"Is the thread working ? {t1.is_alive()}\")\n",
    "t1.join()\n",
    "\n",
    "print(f\"What about now ? {t1.is_alive()}\")"
   ]
  },
  {
   "cell_type": "markdown",
   "metadata": {},
   "source": [
    "Нека разгледаме следния практически пример - имаме следната функция, която изчислява (до някаква степен) безкрайна сума. Като пример, ще вземем следната сума  $$ \\sum_{k=0}^{\\infty} \\frac{99^k}{(99(k+1))^{97}}  $$\n",
    "\n",
    "Можем да напишеш функция, която изчислява част от реда - с начално $ k_{start} $ и крайно $ k_{end} $"
   ]
  },
  {
   "cell_type": "code",
   "execution_count": 34,
   "metadata": {},
   "outputs": [],
   "source": [
    "import math\n",
    "\n",
    "def calculate_partial_sum(start: int, end: int) -> int:\n",
    "    sum = 0\n",
    "    for k in range(start, end + 1):\n",
    "        numerator = (99 ** k)\n",
    "        denominator = (99 * (k+1)) ** 97\n",
    "        sum += numerator // denominator\n",
    "    \n",
    "    return sum"
   ]
  },
  {
   "cell_type": "markdown",
   "metadata": {},
   "source": [
    "Нека изчислим първите 25000 члена на този ред"
   ]
  },
  {
   "cell_type": "code",
   "execution_count": 50,
   "metadata": {},
   "outputs": [
    {
     "name": "stdout",
     "output_type": "stream",
     "text": [
      "The call took 13.06 seconds\n"
     ]
    }
   ],
   "source": [
    "import time\n",
    "\n",
    "start = time.time()\n",
    "calculate_partial_sum(0, 24000)\n",
    "end = time.time()\n",
    "\n",
    "print(f'The call took {(end-start):.2f} seconds')"
   ]
  },
  {
   "cell_type": "markdown",
   "metadata": {},
   "source": [
    "Забелязваме, че кода ни отнема ~13 секунди да пресметне първите 24000 члена да реда. В този си вариант, членове на реда не зависят един от друг - това ни позволява да ги пресмятаме на интервали, които можем да пуснем на няколко нишки.\n",
    "\n",
    "Нека като първи пример пуснем две нишки - едната да изчисли първите 12000 члена, а втората, останалите."
   ]
  },
  {
   "cell_type": "code",
   "execution_count": 51,
   "metadata": {},
   "outputs": [
    {
     "name": "stdout",
     "output_type": "stream",
     "text": [
      "The 2 threads took 14.82 seconds\n"
     ]
    }
   ],
   "source": [
    "import time\n",
    "from threading import Thread\n",
    "\n",
    "t1 = Thread(target=calculate_partial_sum, args=(0, 12000))\n",
    "t2 = Thread(target=calculate_partial_sum, args=(12001, 24000))\n",
    "\n",
    "start = time.time()\n",
    "t1.start()\n",
    "t2.start()\n",
    "\n",
    "while t1.is_alive() or t2.is_alive():\n",
    "    time.sleep(0.1)\n",
    "\n",
    "end = time.time()\n",
    "print(f'The 2 threads took {(end-start):.2f} seconds')"
   ]
  },
  {
   "cell_type": "markdown",
   "metadata": {},
   "source": [
    "Забелязваме, че на две нишки, кодът ни се изпълни за ~15 секунди - изненада. Нека пробваме на 4 нишки, каква е ситуацията."
   ]
  },
  {
   "cell_type": "code",
   "execution_count": 52,
   "metadata": {},
   "outputs": [
    {
     "name": "stdout",
     "output_type": "stream",
     "text": [
      "The 4 threads took 21.37 seconds\n"
     ]
    }
   ],
   "source": [
    "import time\n",
    "from threading import Thread\n",
    "\n",
    "t1 = Thread(target=calculate_partial_sum, args=(0, 6000))\n",
    "t2 = Thread(target=calculate_partial_sum, args=(6001, 12000))\n",
    "t3 = Thread(target=calculate_partial_sum, args=(12001, 18000))\n",
    "t4 = Thread(target=calculate_partial_sum, args=(18001, 24000))\n",
    "\n",
    "start = time.time()\n",
    "t1.start()\n",
    "t2.start()\n",
    "t3.start()\n",
    "t4.start()\n",
    "\n",
    "while t1.is_alive() or t2.is_alive() or t3.is_alive() or t4.is_alive():\n",
    "    time.sleep(0.1)\n",
    "\n",
    "end = time.time()\n",
    "print(f'The 4 threads took {(end-start):.2f} seconds')"
   ]
  },
  {
   "cell_type": "markdown",
   "metadata": {},
   "source": [
    "С 4 нишки, нещата стават още по-бавни... Какво се случва ?"
   ]
  },
  {
   "cell_type": "markdown",
   "metadata": {},
   "source": [
    "## Python GIL"
   ]
  },
  {
   "cell_type": "markdown",
   "metadata": {},
   "source": [
    "Една от особенностите на Python, е т.нар. global interpreter lock (GIL) - накратко, само една нишка може да работи с интерпретатора на Python в даден момент. \n",
    "Това е направено с цел, да се реши проблема с промяната на променлива от една нишка, докато друга я достъпва. (По-конкретно, проблемът може да се появи, когато дадена памет трябва да се освободи, след като в едната нишка се стига до порция от кода, в който променливата вече не се използва).\n",
    "\n",
    "Съществуването на GIL в Python улеснява писането на код - нашия код винаги е thread-safe (няма как две нишки да се борят за един и същ ресурс). Освен това, GIL позволява използването на C библиотеки, които не са предвидени за работа в многонишков режим."
   ]
  },
  {
   "cell_type": "markdown",
   "metadata": {},
   "source": [
    "Наличието на GIL в Python обаче означава, че нашия \"многонишков\" код всъщност не е многонишков - да, ние стартираме няколко нишки, но те се изпълняват конкурентно, а не паралелно. На практика това означава, че при задачи, в които разчитаме единствено на операциите на процесора, кодът ни ще се държи все едно се изпълнява на една нишка. \n",
    "\n",
    "Това обаче е вярно за задачи, които са изцяло зависими от процесора - както казахме по-горе, понякога нашите задачи трябва да \"чакат\" за някакъв ресурс (например файл) - тогава интерпретатора ще отнеме контрола на чакащата нишка, и ще го предаде на следвщата нишка чакаща време за изпълнение. На практика това означава, че използването на нишки в Python би донесло подобрение във времето за изпълнение, независимо от GIL. \n",
    "\n",
    "Ситуации в които това би било вярно, е когато работим с GUI - през повечето време нашата програма няма да прави CPU изчисления, и активната нишка ще е тази, върху която се изпълнява графичния интерфейс. Друг пример, е когато имаме задачи с много IO операции - писане или четене от файлове."
   ]
  },
  {
   "cell_type": "markdown",
   "metadata": {},
   "source": [
    "Ако искате да научите повече детайли за GIL, може да разгледате [тази](https://realpython.com/python-gil/) статия, или [този](https://www.youtube.com/watch?v=Obt-vMVdM8s) клип."
   ]
  },
  {
   "cell_type": "markdown",
   "metadata": {},
   "source": [
    "## Threads, round 2\n",
    "https://docs.python.org/3.10/library/threading.html?highlight=threading#module-threading\n",
    "- Семафори\n",
    "- Lock\n",
    "- Condition\n",
    "- Event"
   ]
  },
  {
   "cell_type": "markdown",
   "metadata": {},
   "source": [
    "## \"Многопроцесност\"\n",
    "https://docs.python.org/3.10/library/multiprocessing.html#module-multiprocessing"
   ]
  },
  {
   "cell_type": "markdown",
   "metadata": {},
   "source": [
    "## Бъдещето\n",
    "https://docs.python.org/3.10/library/concurrent.futures.html#module-concurrent.futures"
   ]
  },
  {
   "cell_type": "markdown",
   "metadata": {},
   "source": [
    "\n",
    "## asyncio\n",
    "https://docs.python.org/3.10/library/asyncio.html#module-asyncio"
   ]
  }
 ],
 "metadata": {
  "kernelspec": {
   "display_name": ".venv",
   "language": "python",
   "name": "python3"
  },
  "language_info": {
   "codemirror_mode": {
    "name": "ipython",
    "version": 3
   },
   "file_extension": ".py",
   "mimetype": "text/x-python",
   "name": "python",
   "nbconvert_exporter": "python",
   "pygments_lexer": "ipython3",
   "version": "3.10.7"
  },
  "vscode": {
   "interpreter": {
    "hash": "8aaebca3fabb9aca40b8d84da99705307a9c71ac29c6ce127bde0d734826686e"
   }
  }
 },
 "nbformat": 4,
 "nbformat_minor": 0
}
